{
 "cells": [
  {
   "cell_type": "markdown",
   "metadata": {},
   "source": [
    "# Import well tops data"
   ]
  },
  {
   "cell_type": "code",
   "execution_count": 1,
   "metadata": {},
   "outputs": [
    {
     "name": "stderr",
     "output_type": "stream",
     "text": [
      "/Users/Heizenberg/anaconda3/lib/python3.6/site-packages/h5py/__init__.py:34: FutureWarning: Conversion of the second argument of issubdtype from `float` to `np.floating` is deprecated. In future, it will be treated as `np.float64 == np.dtype(float).type`.\n",
      "  from ._conv import register_converters as _register_converters\n"
     ]
    }
   ],
   "source": [
    "import numpy as np\n",
    "import pandas as pd\n",
    "import os\n",
    "import glob\n",
    "import lasio\n",
    "import matplotlib.pyplot as plt\n",
    "%matplotlib inline\n",
    "import tensorflow as tf"
   ]
  },
  {
   "cell_type": "code",
   "execution_count": 455,
   "metadata": {},
   "outputs": [
    {
     "name": "stderr",
     "output_type": "stream",
     "text": [
      "/Users/Heizenberg/anaconda3/lib/python3.6/site-packages/ipykernel_launcher.py:22: FutureWarning: Sorting because non-concatenation axis is not aligned. A future version\n",
      "of pandas will change to not sort by default.\n",
      "\n",
      "To accept the future behavior, pass 'sort=False'.\n",
      "\n",
      "To retain the current behavior and silence the warning, pass 'sort=True'.\n",
      "\n"
     ]
    }
   ],
   "source": [
    "# Reading wireline logs \n",
    "dir_='../Wells/'\n",
    "list_ = []\n",
    "for filename in os.listdir(dir_):\n",
    "    if \"Additional\" not in filename:\n",
    "        g = glob.glob(dir_+filename+'/Wireline Data-Merged/*Final*')\n",
    "        las = lasio.read(g[0])\n",
    "        df = las.df()\n",
    "        #df_ = pd.read_excel(file[0],'Formation Summary',skiprows=1)\n",
    "        df['Wellname']=filename.lower().strip()\n",
    "        df['MD'] = df.index\n",
    "        list_.append(df)\n",
    "    else:\n",
    "        for f in os.listdir(dir_+filename+'/Final_las/'):\n",
    "            las = lasio.read(dir_+filename+'/Final_las/'+f)\n",
    "            df = las.df()\n",
    "            name = os.path.splitext(f)[0]\n",
    "            df['Wellname']= name[:-6].lower().strip()\n",
    "            df['MD'] = df.index\n",
    "            list_.append(df)\n",
    "        \n",
    "big_frame = pd.concat(list_, axis = 0, ignore_index = True)"
   ]
  },
  {
   "cell_type": "markdown",
   "metadata": {},
   "source": [
    "# Clean Wireline Data"
   ]
  },
  {
   "cell_type": "code",
   "execution_count": 456,
   "metadata": {
    "collapsed": true
   },
   "outputs": [],
   "source": [
    "big_frame['Wellname'] = big_frame['Wellname'].str.replace(' ','-')\n",
    "big_frame['Wellname']=big_frame['Wellname'].str.replace('a-','a')\n",
    "big_frame['Wellname'] = big_frame['Wellname'].str.replace('c-','c')\n",
    "big_frame['Wellname'] = big_frame['Wellname'].str.replace('b-5','b5')"
   ]
  },
  {
   "cell_type": "code",
   "execution_count": 457,
   "metadata": {
    "collapsed": true
   },
   "outputs": [],
   "source": [
    "DirtyWell = big_frame[big_frame['Wellname']=='cheal-a6_st1'].index\n",
    "DirtyWell\n",
    "big_frame.drop(DirtyWell,inplace=True,axis=0)"
   ]
  },
  {
   "cell_type": "markdown",
   "metadata": {},
   "source": [
    "# Read Deviation data"
   ]
  },
  {
   "cell_type": "code",
   "execution_count": 458,
   "metadata": {
    "collapsed": true
   },
   "outputs": [],
   "source": [
    "# Read Divtation survey\n",
    "dir_ = '../Deviation/'\n",
    "list_ = []\n",
    "for filename in os.listdir(dir_):\n",
    "    mydf = pd.read_csv(dir_+filename,sep='\\t')\n",
    "    mydf['Wellname']=filename[:-4].lower().strip()\n",
    "    list_.append(mydf)\n",
    "dev_data = pd.concat(list_, axis = 0, ignore_index = True)"
   ]
  },
  {
   "cell_type": "code",
   "execution_count": 459,
   "metadata": {
    "collapsed": true
   },
   "outputs": [],
   "source": [
    "dev_data = dev_data.rename(columns={'MD(m)':'MD'})"
   ]
  },
  {
   "cell_type": "code",
   "execution_count": 460,
   "metadata": {
    "collapsed": true
   },
   "outputs": [],
   "source": [
    "dev_data = dev_data.rename(columns={'X(m)':'X','Y(m)':'Y','Z(m)':'TVDSS'})"
   ]
  },
  {
   "cell_type": "markdown",
   "metadata": {},
   "source": [
    "### Explorate deviation and wireline"
   ]
  },
  {
   "cell_type": "code",
   "execution_count": null,
   "metadata": {
    "collapsed": true
   },
   "outputs": [],
   "source": [
    "big_frame.head()"
   ]
  },
  {
   "cell_type": "code",
   "execution_count": 8,
   "metadata": {
    "collapsed": true
   },
   "outputs": [],
   "source": [
    "from sklearn import preprocessing\n"
   ]
  },
  {
   "cell_type": "markdown",
   "metadata": {},
   "source": [
    "### Interpolation"
   ]
  },
  {
   "cell_type": "code",
   "execution_count": 12,
   "metadata": {},
   "outputs": [
    {
     "data": {
      "text/html": [
       "<div>\n",
       "<style scoped>\n",
       "    .dataframe tbody tr th:only-of-type {\n",
       "        vertical-align: middle;\n",
       "    }\n",
       "\n",
       "    .dataframe tbody tr th {\n",
       "        vertical-align: top;\n",
       "    }\n",
       "\n",
       "    .dataframe thead th {\n",
       "        text-align: right;\n",
       "    }\n",
       "</style>\n",
       "<table border=\"1\" class=\"dataframe\">\n",
       "  <thead>\n",
       "    <tr style=\"text-align: right;\">\n",
       "      <th></th>\n",
       "      <th>X</th>\n",
       "      <th>Y</th>\n",
       "      <th>TVDSS</th>\n",
       "      <th>TVD(m)</th>\n",
       "      <th>MD</th>\n",
       "      <th>Wellname</th>\n",
       "    </tr>\n",
       "  </thead>\n",
       "  <tbody>\n",
       "  </tbody>\n",
       "</table>\n",
       "</div>"
      ],
      "text/plain": [
       "Empty DataFrame\n",
       "Columns: [X, Y, TVDSS, TVD(m), MD, Wellname]\n",
       "Index: []"
      ]
     },
     "execution_count": 12,
     "metadata": {},
     "output_type": "execute_result"
    }
   ],
   "source": [
    "dev_data[dev_data['TVD(m)'].isnull()]"
   ]
  },
  {
   "cell_type": "markdown",
   "metadata": {},
   "source": [
    "# Merge Wireline and Deviation"
   ]
  },
  {
   "cell_type": "code",
   "execution_count": 461,
   "metadata": {
    "collapsed": true
   },
   "outputs": [],
   "source": [
    "big_frame = big_frame.sort_values(['Wellname','MD'])"
   ]
  },
  {
   "cell_type": "code",
   "execution_count": 462,
   "metadata": {
    "collapsed": true
   },
   "outputs": [],
   "source": [
    "dev_data = dev_data.sort_values(['Wellname','MD'])"
   ]
  },
  {
   "cell_type": "code",
   "execution_count": 463,
   "metadata": {
    "collapsed": true
   },
   "outputs": [],
   "source": [
    "big_frame['MD']= round(big_frame['MD'] * 3.28084)"
   ]
  },
  {
   "cell_type": "code",
   "execution_count": 464,
   "metadata": {
    "collapsed": true
   },
   "outputs": [],
   "source": [
    "dev_data['MD'] = round(dev_data['MD']*3.28084)"
   ]
  },
  {
   "cell_type": "code",
   "execution_count": null,
   "metadata": {
    "collapsed": true
   },
   "outputs": [],
   "source": []
  },
  {
   "cell_type": "code",
   "execution_count": 465,
   "metadata": {
    "collapsed": true
   },
   "outputs": [],
   "source": [
    "df = big_frame.merge(dev_data,on=['Wellname','MD'],how='inner')"
   ]
  },
  {
   "cell_type": "code",
   "execution_count": null,
   "metadata": {
    "collapsed": true
   },
   "outputs": [],
   "source": [
    "df.shape"
   ]
  },
  {
   "cell_type": "code",
   "execution_count": 466,
   "metadata": {
    "collapsed": true
   },
   "outputs": [],
   "source": [
    "df['GR'] = df['GR'].fillna(df['GR_CORR'])\n",
    "df['NEUT'] = df['NEUT'].fillna(df['NEUT_CORR'])\n",
    "df['RESD'] = df['RESD'].fillna(df['RESD_CORR'])"
   ]
  },
  {
   "cell_type": "code",
   "execution_count": 467,
   "metadata": {
    "collapsed": true
   },
   "outputs": [],
   "source": [
    " df.drop(['BS','CALI', 'DENS', 'DENS_CORR', 'DRHO', 'DTS', 'GR_CORR', 'NEUT_CORR', 'PEF', 'RESD_CORR', 'RESM', 'RESS',\n",
    "       'RESS_CORR', 'SP', 'TEMP', 'TENS'],axis=1,inplace=True)"
   ]
  },
  {
   "cell_type": "markdown",
   "metadata": {},
   "source": [
    "# Normalization"
   ]
  },
  {
   "cell_type": "code",
   "execution_count": 16,
   "metadata": {
    "collapsed": true
   },
   "outputs": [],
   "source": [
    "from sklearn import preprocessing\n"
   ]
  },
  {
   "cell_type": "code",
   "execution_count": 468,
   "metadata": {
    "collapsed": true
   },
   "outputs": [],
   "source": [
    "x = df[['GR','DTC','NEUT']].values #returns a numpy array\n",
    "min_max_scaler = preprocessing.MinMaxScaler()\n",
    "x_scaled = min_max_scaler.fit_transform(x)\n",
    "df_ = pd.DataFrame(x_scaled)"
   ]
  },
  {
   "cell_type": "code",
   "execution_count": 469,
   "metadata": {
    "collapsed": true
   },
   "outputs": [],
   "source": [
    "df[['GR','DTC','NEUT']] = df_"
   ]
  },
  {
   "cell_type": "code",
   "execution_count": 470,
   "metadata": {
    "collapsed": true
   },
   "outputs": [],
   "source": [
    "df.dropna(subset=['GR','DTC','NEUT','RESD'],how='all',inplace=True)"
   ]
  },
  {
   "cell_type": "code",
   "execution_count": 471,
   "metadata": {
    "collapsed": true
   },
   "outputs": [],
   "source": [
    "df[['GR','DTC','NEUT','RESD']]=df[['GR','DTC','NEUT','RESD']].fillna(-999.25)"
   ]
  },
  {
   "cell_type": "code",
   "execution_count": null,
   "metadata": {
    "collapsed": true
   },
   "outputs": [],
   "source": [
    "df[df['Y'].isnull()]"
   ]
  },
  {
   "cell_type": "code",
   "execution_count": 475,
   "metadata": {
    "collapsed": true
   },
   "outputs": [],
   "source": [
    "# Reading Well-formation\n",
    "dir_='../'\n",
    "f = 'Merged_Well_Tops.xlsx'\n",
    "df_ = pd.read_excel(dir_+f,names=['Wellname','Formation','MD'])\n",
    "df_['Wellname'] = df_['Wellname'].str.lower().str.strip()\n",
    "df_['Formation'] = df_['Formation'].str.lower().str.strip()"
   ]
  },
  {
   "cell_type": "code",
   "execution_count": null,
   "metadata": {
    "collapsed": true
   },
   "outputs": [],
   "source": [
    "col = df.columns.drop(['GR','NEUT','RESD','DTC','TVDSS'])"
   ]
  },
  {
   "cell_type": "code",
   "execution_count": null,
   "metadata": {
    "collapsed": true
   },
   "outputs": [],
   "source": [
    "df.head()"
   ]
  },
  {
   "cell_type": "markdown",
   "metadata": {},
   "source": [
    "Fill missing values in X and Y"
   ]
  },
  {
   "cell_type": "code",
   "execution_count": 472,
   "metadata": {
    "collapsed": true
   },
   "outputs": [],
   "source": [
    "df[['X','Y']]=df[['X','Y']].fillna(method='bfill')"
   ]
  },
  {
   "cell_type": "code",
   "execution_count": 473,
   "metadata": {
    "collapsed": true
   },
   "outputs": [],
   "source": [
    "df[['X','Y']]=df[['X','Y']].interpolate(method='linear',limit_direction='forward',limit=1000)"
   ]
  },
  {
   "cell_type": "code",
   "execution_count": null,
   "metadata": {
    "collapsed": true
   },
   "outputs": [],
   "source": [
    "df.tail()"
   ]
  },
  {
   "cell_type": "markdown",
   "metadata": {},
   "source": [
    "### Fill TVD"
   ]
  },
  {
   "cell_type": "markdown",
   "metadata": {},
   "source": [
    "# Clean Well tops Data"
   ]
  },
  {
   "cell_type": "code",
   "execution_count": 476,
   "metadata": {},
   "outputs": [],
   "source": [
    "DirtyWell = df_[df_['Wellname']=='cheal b-2'].index\n",
    "df_.drop(DirtyWell,inplace=True)"
   ]
  },
  {
   "cell_type": "code",
   "execution_count": 477,
   "metadata": {
    "collapsed": true
   },
   "outputs": [],
   "source": [
    "DirtyWell = df_[df_['Wellname']=='cheal b-3'].index\n",
    "df_.drop(DirtyWell,inplace=True)"
   ]
  },
  {
   "cell_type": "code",
   "execution_count": 26,
   "metadata": {
    "collapsed": true
   },
   "outputs": [],
   "source": [
    "for c in df_['Formation'].unique():\n",
    "    if(df_[df_['Formation']==c].count()[0]<=16):\n",
    "        df_=df_[df_['Formation']!=c]"
   ]
  },
  {
   "cell_type": "code",
   "execution_count": 478,
   "metadata": {
    "collapsed": true
   },
   "outputs": [],
   "source": [
    "df_['Formation']=df_['Formation'].astype('category').cat.codes"
   ]
  },
  {
   "cell_type": "code",
   "execution_count": 28,
   "metadata": {
    "collapsed": true
   },
   "outputs": [],
   "source": []
  },
  {
   "cell_type": "code",
   "execution_count": 479,
   "metadata": {
    "collapsed": true
   },
   "outputs": [],
   "source": [
    "data = devwire.merge(df_,on=['MD','Wellname'],how='outer')"
   ]
  },
  {
   "cell_type": "code",
   "execution_count": null,
   "metadata": {
    "collapsed": true
   },
   "outputs": [],
   "source": [
    "data.shape"
   ]
  },
  {
   "cell_type": "code",
   "execution_count": 480,
   "metadata": {
    "collapsed": true
   },
   "outputs": [],
   "source": [
    "data = data.sort_values(['Wellname','MD'])"
   ]
  },
  {
   "cell_type": "code",
   "execution_count": null,
   "metadata": {
    "collapsed": true
   },
   "outputs": [],
   "source": []
  },
  {
   "cell_type": "code",
   "execution_count": 481,
   "metadata": {
    "collapsed": true
   },
   "outputs": [],
   "source": [
    "data['Formation']=data['Formation'].fillna(method='ffill')"
   ]
  },
  {
   "cell_type": "code",
   "execution_count": 482,
   "metadata": {
    "collapsed": true
   },
   "outputs": [],
   "source": [
    "data['Formation']=data['Formation'].fillna(-1)"
   ]
  },
  {
   "cell_type": "code",
   "execution_count": 483,
   "metadata": {
    "collapsed": true
   },
   "outputs": [],
   "source": [
    "data['TVD(m)'] = round(data['TVD(m)']*3.28084)"
   ]
  },
  {
   "cell_type": "code",
   "execution_count": 484,
   "metadata": {
    "collapsed": true
   },
   "outputs": [],
   "source": [
    "data['TVDSS'] = round(data['TVDSS']*3.28084)"
   ]
  },
  {
   "cell_type": "code",
   "execution_count": 487,
   "metadata": {},
   "outputs": [
    {
     "data": {
      "text/html": [
       "<div>\n",
       "<style scoped>\n",
       "    .dataframe tbody tr th:only-of-type {\n",
       "        vertical-align: middle;\n",
       "    }\n",
       "\n",
       "    .dataframe tbody tr th {\n",
       "        vertical-align: top;\n",
       "    }\n",
       "\n",
       "    .dataframe thead th {\n",
       "        text-align: right;\n",
       "    }\n",
       "</style>\n",
       "<table border=\"1\" class=\"dataframe\">\n",
       "  <thead>\n",
       "    <tr style=\"text-align: right;\">\n",
       "      <th></th>\n",
       "      <th>DTC</th>\n",
       "      <th>GR</th>\n",
       "      <th>MD</th>\n",
       "      <th>NEUT</th>\n",
       "      <th>RESD</th>\n",
       "      <th>Wellname</th>\n",
       "      <th>X</th>\n",
       "      <th>Y</th>\n",
       "      <th>TVDSS</th>\n",
       "      <th>TVD(m)</th>\n",
       "      <th>Formation</th>\n",
       "    </tr>\n",
       "  </thead>\n",
       "  <tbody>\n",
       "  </tbody>\n",
       "</table>\n",
       "</div>"
      ],
      "text/plain": [
       "Empty DataFrame\n",
       "Columns: [DTC, GR, MD, NEUT, RESD, Wellname, X, Y, TVDSS, TVD(m), Formation]\n",
       "Index: []"
      ]
     },
     "execution_count": 487,
     "metadata": {},
     "output_type": "execute_result"
    }
   ],
   "source": [
    "data[data['GR'].isnull()]"
   ]
  },
  {
   "cell_type": "code",
   "execution_count": 486,
   "metadata": {
    "collapsed": true
   },
   "outputs": [],
   "source": [
    "data[['GR','DTC','NEUT','RESD']]=data[['GR','DTC','NEUT','RESD']].interpolate(limit_direction='both')"
   ]
  },
  {
   "cell_type": "markdown",
   "metadata": {},
   "source": [
    "# Assume X and Y"
   ]
  },
  {
   "cell_type": "code",
   "execution_count": 488,
   "metadata": {
    "collapsed": true
   },
   "outputs": [],
   "source": [
    "data[['X','Y']] = data[['X','Y']].interpolate(limit=1000,limit_direction='forward')"
   ]
  },
  {
   "cell_type": "code",
   "execution_count": 489,
   "metadata": {
    "collapsed": true
   },
   "outputs": [],
   "source": [
    "data[['X','Y']]=data[['X','Y']].fillna(method='bfill')"
   ]
  },
  {
   "cell_type": "markdown",
   "metadata": {},
   "source": [
    "# Work on TVD"
   ]
  },
  {
   "cell_type": "code",
   "execution_count": 43,
   "metadata": {
    "collapsed": true
   },
   "outputs": [],
   "source": [
    "df1=data"
   ]
  },
  {
   "cell_type": "code",
   "execution_count": 490,
   "metadata": {
    "collapsed": true
   },
   "outputs": [],
   "source": [
    "data['TVD(m)'] = data['TVD(m)'].interpolate(limit=1,limit_direction='forward')"
   ]
  },
  {
   "cell_type": "code",
   "execution_count": 491,
   "metadata": {
    "collapsed": true
   },
   "outputs": [],
   "source": [
    "data['TVD(m)']=data['TVD(m)'].fillna(data['MD'])"
   ]
  },
  {
   "cell_type": "markdown",
   "metadata": {},
   "source": [
    "# Interpolate TVDSS"
   ]
  },
  {
   "cell_type": "code",
   "execution_count": null,
   "metadata": {
    "collapsed": true
   },
   "outputs": [],
   "source": [
    "data = df2"
   ]
  },
  {
   "cell_type": "code",
   "execution_count": null,
   "metadata": {
    "collapsed": true
   },
   "outputs": [],
   "source": [
    "data['TVDSS']=data['TVDSS'].interpolate(method='polynomial',limit=1,limit_direction='both',order=2)"
   ]
  },
  {
   "cell_type": "code",
   "execution_count": 492,
   "metadata": {
    "collapsed": true
   },
   "outputs": [],
   "source": [
    "data.drop(columns=['TVDSS'],inplace=True)"
   ]
  },
  {
   "cell_type": "code",
   "execution_count": null,
   "metadata": {
    "collapsed": true
   },
   "outputs": [],
   "source": [
    "data.head()"
   ]
  },
  {
   "cell_type": "markdown",
   "metadata": {},
   "source": [
    "### Clean formations"
   ]
  },
  {
   "cell_type": "code",
   "execution_count": 493,
   "metadata": {
    "collapsed": true
   },
   "outputs": [],
   "source": [
    "for c in df_['Formation'].unique():\n",
    "    if(df_[df_['Formation']==c].count()[0]<=16):\n",
    "        data[data['Formation']==c] = -1"
   ]
  },
  {
   "cell_type": "code",
   "execution_count": 494,
   "metadata": {},
   "outputs": [
    {
     "data": {
      "text/plain": [
       "-1.0     5219\n",
       " 5.0      416\n",
       " 11.0     237\n",
       " 13.0     235\n",
       " 3.0      220\n",
       " 10.0     120\n",
       "Name: Formation, dtype: int64"
      ]
     },
     "execution_count": 494,
     "metadata": {},
     "output_type": "execute_result"
    }
   ],
   "source": [
    "data['Formation'].value_counts()"
   ]
  },
  {
   "cell_type": "markdown",
   "metadata": {},
   "source": [
    "# Prepare Model"
   ]
  },
  {
   "cell_type": "code",
   "execution_count": 55,
   "metadata": {
    "collapsed": true
   },
   "outputs": [],
   "source": [
    "df = data"
   ]
  },
  {
   "cell_type": "code",
   "execution_count": 495,
   "metadata": {
    "collapsed": true
   },
   "outputs": [],
   "source": [
    "grouped = data.groupby('Wellname')"
   ]
  },
  {
   "cell_type": "code",
   "execution_count": 496,
   "metadata": {
    "collapsed": true
   },
   "outputs": [],
   "source": [
    "split_well = pd.read_csv('split_wells.csv')"
   ]
  },
  {
   "cell_type": "code",
   "execution_count": 497,
   "metadata": {
    "collapsed": true
   },
   "outputs": [],
   "source": [
    "split_well=split_well.fillna(0)"
   ]
  },
  {
   "cell_type": "code",
   "execution_count": 498,
   "metadata": {
    "collapsed": true
   },
   "outputs": [],
   "source": [
    "train_=[]\n",
    "test_ = []\n",
    "for w in split_well['Train']:\n",
    "    train_.append(grouped.get_group(w))\n",
    "for w in split_well['Test']:\n",
    "    if (w!=0):\n",
    "        test_.append(grouped.get_group(w))\n",
    "train = pd.concat(train_,axis=0,ignore_index=True)\n",
    "test = pd.concat(test_,axis=0,ignore_index=True)"
   ]
  },
  {
   "cell_type": "code",
   "execution_count": null,
   "metadata": {
    "collapsed": true
   },
   "outputs": [],
   "source": []
  },
  {
   "cell_type": "markdown",
   "metadata": {},
   "source": [
    "### Classification Problem"
   ]
  },
  {
   "cell_type": "code",
   "execution_count": 499,
   "metadata": {},
   "outputs": [],
   "source": [
    "X_train = train.drop(['Wellname','Formation'],axis=1)\n",
    "y_train = train['Formation']\n",
    "X_test = test.drop(['Wellname','Formation'],axis=1)\n",
    "y_test = test['Formation']"
   ]
  },
  {
   "cell_type": "code",
   "execution_count": 52,
   "metadata": {},
   "outputs": [
    {
     "data": {
      "text/html": [
       "<div>\n",
       "<style scoped>\n",
       "    .dataframe tbody tr th:only-of-type {\n",
       "        vertical-align: middle;\n",
       "    }\n",
       "\n",
       "    .dataframe tbody tr th {\n",
       "        vertical-align: top;\n",
       "    }\n",
       "\n",
       "    .dataframe thead th {\n",
       "        text-align: right;\n",
       "    }\n",
       "</style>\n",
       "<table border=\"1\" class=\"dataframe\">\n",
       "  <thead>\n",
       "    <tr style=\"text-align: right;\">\n",
       "      <th></th>\n",
       "      <th>DTC</th>\n",
       "      <th>GR</th>\n",
       "      <th>MD</th>\n",
       "      <th>NEUT</th>\n",
       "      <th>RESD</th>\n",
       "      <th>Wellname</th>\n",
       "      <th>X</th>\n",
       "      <th>Y</th>\n",
       "      <th>TVDSS</th>\n",
       "      <th>TVD(m)</th>\n",
       "    </tr>\n",
       "  </thead>\n",
       "  <tbody>\n",
       "  </tbody>\n",
       "</table>\n",
       "</div>"
      ],
      "text/plain": [
       "Empty DataFrame\n",
       "Columns: [DTC, GR, MD, NEUT, RESD, Wellname, X, Y, TVDSS, TVD(m)]\n",
       "Index: []"
      ]
     },
     "execution_count": 52,
     "metadata": {},
     "output_type": "execute_result"
    }
   ],
   "source": [
    "df[df['NEUT'].isnull()]"
   ]
  },
  {
   "cell_type": "markdown",
   "metadata": {},
   "source": [
    "# Base Model"
   ]
  },
  {
   "cell_type": "code",
   "execution_count": 53,
   "metadata": {
    "collapsed": true
   },
   "outputs": [],
   "source": [
    "from sklearn.linear_model import LogisticRegression"
   ]
  },
  {
   "cell_type": "code",
   "execution_count": 500,
   "metadata": {},
   "outputs": [],
   "source": [
    "clf = LogisticRegression(random_state=0, solver='lbfgs',multi_class='multinomial').fit(X_train, y_train)"
   ]
  },
  {
   "cell_type": "code",
   "execution_count": 501,
   "metadata": {},
   "outputs": [
    {
     "name": "stdout",
     "output_type": "stream",
     "text": [
      "0.5197132616487455\n"
     ]
    }
   ],
   "source": [
    "print(clf.score(X_test,y_test))"
   ]
  },
  {
   "cell_type": "code",
   "execution_count": 56,
   "metadata": {
    "collapsed": true
   },
   "outputs": [],
   "source": [
    "from sklearn.tree import DecisionTreeClassifier"
   ]
  },
  {
   "cell_type": "code",
   "execution_count": 284,
   "metadata": {},
   "outputs": [
    {
     "data": {
      "text/html": [
       "<div>\n",
       "<style scoped>\n",
       "    .dataframe tbody tr th:only-of-type {\n",
       "        vertical-align: middle;\n",
       "    }\n",
       "\n",
       "    .dataframe tbody tr th {\n",
       "        vertical-align: top;\n",
       "    }\n",
       "\n",
       "    .dataframe thead th {\n",
       "        text-align: right;\n",
       "    }\n",
       "</style>\n",
       "<table border=\"1\" class=\"dataframe\">\n",
       "  <thead>\n",
       "    <tr style=\"text-align: right;\">\n",
       "      <th></th>\n",
       "      <th>DTC</th>\n",
       "      <th>GR</th>\n",
       "      <th>MD</th>\n",
       "      <th>NEUT</th>\n",
       "      <th>RESD</th>\n",
       "      <th>X</th>\n",
       "      <th>Y</th>\n",
       "      <th>TVD(m)</th>\n",
       "      <th>pred</th>\n",
       "    </tr>\n",
       "  </thead>\n",
       "  <tbody>\n",
       "    <tr>\n",
       "      <th>0</th>\n",
       "      <td>0.485168</td>\n",
       "      <td>0.546043</td>\n",
       "      <td>949.0</td>\n",
       "      <td>0.443780</td>\n",
       "      <td>25.1830</td>\n",
       "      <td>2622382.74</td>\n",
       "      <td>6201193.400</td>\n",
       "      <td>949.0</td>\n",
       "      <td>1</td>\n",
       "    </tr>\n",
       "    <tr>\n",
       "      <th>1</th>\n",
       "      <td>0.482754</td>\n",
       "      <td>0.531214</td>\n",
       "      <td>949.0</td>\n",
       "      <td>0.447368</td>\n",
       "      <td>24.6710</td>\n",
       "      <td>2622382.74</td>\n",
       "      <td>6201193.400</td>\n",
       "      <td>949.0</td>\n",
       "      <td>1</td>\n",
       "    </tr>\n",
       "    <tr>\n",
       "      <th>2</th>\n",
       "      <td>0.472147</td>\n",
       "      <td>0.500213</td>\n",
       "      <td>976.0</td>\n",
       "      <td>0.415072</td>\n",
       "      <td>25.8755</td>\n",
       "      <td>2622382.68</td>\n",
       "      <td>6201193.325</td>\n",
       "      <td>971.0</td>\n",
       "      <td>1</td>\n",
       "    </tr>\n",
       "    <tr>\n",
       "      <th>3</th>\n",
       "      <td>0.461541</td>\n",
       "      <td>0.469211</td>\n",
       "      <td>993.0</td>\n",
       "      <td>0.382775</td>\n",
       "      <td>27.0800</td>\n",
       "      <td>2622382.62</td>\n",
       "      <td>6201193.250</td>\n",
       "      <td>993.0</td>\n",
       "      <td>1</td>\n",
       "    </tr>\n",
       "    <tr>\n",
       "      <th>4</th>\n",
       "      <td>0.457212</td>\n",
       "      <td>0.477978</td>\n",
       "      <td>993.0</td>\n",
       "      <td>0.381579</td>\n",
       "      <td>28.3880</td>\n",
       "      <td>2622382.62</td>\n",
       "      <td>6201193.250</td>\n",
       "      <td>993.0</td>\n",
       "      <td>1</td>\n",
       "    </tr>\n",
       "  </tbody>\n",
       "</table>\n",
       "</div>"
      ],
      "text/plain": [
       "        DTC        GR     MD      NEUT     RESD           X            Y  \\\n",
       "0  0.485168  0.546043  949.0  0.443780  25.1830  2622382.74  6201193.400   \n",
       "1  0.482754  0.531214  949.0  0.447368  24.6710  2622382.74  6201193.400   \n",
       "2  0.472147  0.500213  976.0  0.415072  25.8755  2622382.68  6201193.325   \n",
       "3  0.461541  0.469211  993.0  0.382775  27.0800  2622382.62  6201193.250   \n",
       "4  0.457212  0.477978  993.0  0.381579  28.3880  2622382.62  6201193.250   \n",
       "\n",
       "   TVD(m)  pred  \n",
       "0   949.0     1  \n",
       "1   949.0     1  \n",
       "2   971.0     1  \n",
       "3   993.0     1  \n",
       "4   993.0     1  "
      ]
     },
     "execution_count": 284,
     "metadata": {},
     "output_type": "execute_result"
    }
   ],
   "source": [
    "X_test.head()"
   ]
  },
  {
   "cell_type": "code",
   "execution_count": 285,
   "metadata": {},
   "outputs": [
    {
     "data": {
      "text/html": [
       "<div>\n",
       "<style scoped>\n",
       "    .dataframe tbody tr th:only-of-type {\n",
       "        vertical-align: middle;\n",
       "    }\n",
       "\n",
       "    .dataframe tbody tr th {\n",
       "        vertical-align: top;\n",
       "    }\n",
       "\n",
       "    .dataframe thead th {\n",
       "        text-align: right;\n",
       "    }\n",
       "</style>\n",
       "<table border=\"1\" class=\"dataframe\">\n",
       "  <thead>\n",
       "    <tr style=\"text-align: right;\">\n",
       "      <th></th>\n",
       "      <th>DTC</th>\n",
       "      <th>GR</th>\n",
       "      <th>MD</th>\n",
       "      <th>NEUT</th>\n",
       "      <th>RESD</th>\n",
       "      <th>X</th>\n",
       "      <th>Y</th>\n",
       "      <th>TVD(m)</th>\n",
       "    </tr>\n",
       "  </thead>\n",
       "  <tbody>\n",
       "    <tr>\n",
       "      <th>0</th>\n",
       "      <td>-499.496805</td>\n",
       "      <td>0.379638</td>\n",
       "      <td>121.3</td>\n",
       "      <td>-499.432416</td>\n",
       "      <td>-497.595</td>\n",
       "      <td>2622409.685</td>\n",
       "      <td>6201122.03</td>\n",
       "      <td>2622.0</td>\n",
       "    </tr>\n",
       "    <tr>\n",
       "      <th>1</th>\n",
       "      <td>-999.250000</td>\n",
       "      <td>0.072334</td>\n",
       "      <td>274.0</td>\n",
       "      <td>-999.250000</td>\n",
       "      <td>-999.250</td>\n",
       "      <td>2622372.540</td>\n",
       "      <td>6201194.73</td>\n",
       "      <td>274.0</td>\n",
       "    </tr>\n",
       "    <tr>\n",
       "      <th>2</th>\n",
       "      <td>-999.250000</td>\n",
       "      <td>0.062044</td>\n",
       "      <td>274.0</td>\n",
       "      <td>-999.250000</td>\n",
       "      <td>-999.250</td>\n",
       "      <td>2622372.540</td>\n",
       "      <td>6201194.73</td>\n",
       "      <td>274.0</td>\n",
       "    </tr>\n",
       "    <tr>\n",
       "      <th>3</th>\n",
       "      <td>-999.250000</td>\n",
       "      <td>0.124151</td>\n",
       "      <td>310.0</td>\n",
       "      <td>-999.250000</td>\n",
       "      <td>-999.250</td>\n",
       "      <td>2622372.390</td>\n",
       "      <td>6201194.57</td>\n",
       "      <td>310.0</td>\n",
       "    </tr>\n",
       "    <tr>\n",
       "      <th>4</th>\n",
       "      <td>-999.250000</td>\n",
       "      <td>0.126444</td>\n",
       "      <td>310.0</td>\n",
       "      <td>-999.250000</td>\n",
       "      <td>-999.250</td>\n",
       "      <td>2622372.390</td>\n",
       "      <td>6201194.57</td>\n",
       "      <td>310.0</td>\n",
       "    </tr>\n",
       "  </tbody>\n",
       "</table>\n",
       "</div>"
      ],
      "text/plain": [
       "          DTC        GR     MD        NEUT     RESD            X           Y  \\\n",
       "0 -499.496805  0.379638  121.3 -499.432416 -497.595  2622409.685  6201122.03   \n",
       "1 -999.250000  0.072334  274.0 -999.250000 -999.250  2622372.540  6201194.73   \n",
       "2 -999.250000  0.062044  274.0 -999.250000 -999.250  2622372.540  6201194.73   \n",
       "3 -999.250000  0.124151  310.0 -999.250000 -999.250  2622372.390  6201194.57   \n",
       "4 -999.250000  0.126444  310.0 -999.250000 -999.250  2622372.390  6201194.57   \n",
       "\n",
       "   TVD(m)  \n",
       "0  2622.0  \n",
       "1   274.0  \n",
       "2   274.0  \n",
       "3   310.0  \n",
       "4   310.0  "
      ]
     },
     "execution_count": 285,
     "metadata": {},
     "output_type": "execute_result"
    }
   ],
   "source": [
    "X_train.head()"
   ]
  },
  {
   "cell_type": "code",
   "execution_count": 508,
   "metadata": {},
   "outputs": [
    {
     "name": "stdout",
     "output_type": "stream",
     "text": [
      "0.6415770609318996\n"
     ]
    }
   ],
   "source": [
    "clf = DecisionTreeClassifier().fit(X_train,y_train)\n",
    "print(clf.score(X_test,y_test))"
   ]
  },
  {
   "cell_type": "code",
   "execution_count": 309,
   "metadata": {
    "collapsed": true
   },
   "outputs": [],
   "source": [
    "from sklearn.ensemble import RandomForestClassifier"
   ]
  },
  {
   "cell_type": "code",
   "execution_count": 503,
   "metadata": {},
   "outputs": [
    {
     "name": "stdout",
     "output_type": "stream",
     "text": [
      "0.7670250896057348\n"
     ]
    },
    {
     "name": "stderr",
     "output_type": "stream",
     "text": [
      "/Users/Heizenberg/anaconda3/lib/python3.6/site-packages/sklearn/ensemble/forest.py:246: FutureWarning: The default value of n_estimators will change from 10 in version 0.20 to 100 in 0.22.\n",
      "  \"10 in version 0.20 to 100 in 0.22.\", FutureWarning)\n"
     ]
    }
   ],
   "source": [
    "clf = RandomForestClassifier().fit(X_train,y_train)\n",
    "print(clf.score(X_test,y_test))"
   ]
  },
  {
   "cell_type": "code",
   "execution_count": 521,
   "metadata": {},
   "outputs": [],
   "source": [
    "y_pred = clf.predict(X_test)"
   ]
  },
  {
   "cell_type": "code",
   "execution_count": 522,
   "metadata": {
    "collapsed": true
   },
   "outputs": [],
   "source": [
    "o = test\n",
    "o['Formation'] = y_pred\n",
    "pred = o.groupby(['Wellname','Formation'])['MD'].min()"
   ]
  },
  {
   "cell_type": "code",
   "execution_count": 523,
   "metadata": {
    "collapsed": true
   },
   "outputs": [],
   "source": [
    "comparision = df_.merge(pred,on=['Wellname','Formation'],how='inner')"
   ]
  },
  {
   "cell_type": "code",
   "execution_count": 525,
   "metadata": {},
   "outputs": [
    {
     "data": {
      "text/plain": [
       "0.3618206401399975"
      ]
     },
     "execution_count": 525,
     "metadata": {},
     "output_type": "execute_result"
    }
   ],
   "source": [
    "np.mean((comparision['MD_x']-comparision['MD_y'])/comparision['MD_x'])"
   ]
  },
  {
   "cell_type": "code",
   "execution_count": 431,
   "metadata": {
    "collapsed": true
   },
   "outputs": [],
   "source": [
    "def mycustom(clf,X,y):\n",
    "    y_pred = clf.predict(X)\n",
    "    o1 = train.loc[X.index]\n",
    "    o1['Formation'] = y_pred\n",
    "    pred = o1.groupby(['Wellname','Formation'])['MD'].min()\n",
    "    comparision = o1.merge(df_,on=['Wellname','Formation'],how='inner')\n",
    "    score = np.abs(np.mean((comparision['MD_x']-comparision['MD_y'])/comparision['MD_x']))\n",
    "    return score"
   ]
  },
  {
   "cell_type": "code",
   "execution_count": 436,
   "metadata": {
    "collapsed": true
   },
   "outputs": [],
   "source": [
    "def mycustom1(clf,X,y):\n",
    "    y_pred = clf.predict(X)\n",
    "    o1 = test.loc[X.index]\n",
    "    o1['Formation'] = y_pred\n",
    "    pred = o1.groupby(['Wellname','Formation'])['MD'].min()\n",
    "    comparision = o1.merge(df_,on=['Wellname','Formation'],how='inner')\n",
    "    score = np.abs(np.mean((comparision['MD_x']-comparision['MD_y'])/comparision['MD_x']))\n",
    "    return score"
   ]
  },
  {
   "cell_type": "code",
   "execution_count": 427,
   "metadata": {},
   "outputs": [
    {
     "data": {
      "text/html": [
       "<div>\n",
       "<style scoped>\n",
       "    .dataframe tbody tr th:only-of-type {\n",
       "        vertical-align: middle;\n",
       "    }\n",
       "\n",
       "    .dataframe tbody tr th {\n",
       "        vertical-align: top;\n",
       "    }\n",
       "\n",
       "    .dataframe thead th {\n",
       "        text-align: right;\n",
       "    }\n",
       "</style>\n",
       "<table border=\"1\" class=\"dataframe\">\n",
       "  <thead>\n",
       "    <tr style=\"text-align: right;\">\n",
       "      <th></th>\n",
       "      <th>DTC</th>\n",
       "      <th>GR</th>\n",
       "      <th>MD</th>\n",
       "      <th>NEUT</th>\n",
       "      <th>RESD</th>\n",
       "      <th>Wellname</th>\n",
       "      <th>X</th>\n",
       "      <th>Y</th>\n",
       "      <th>TVD(m)</th>\n",
       "      <th>Formation</th>\n",
       "    </tr>\n",
       "  </thead>\n",
       "  <tbody>\n",
       "    <tr>\n",
       "      <th>0</th>\n",
       "      <td>0.389167</td>\n",
       "      <td>0.246102</td>\n",
       "      <td>1401.0</td>\n",
       "      <td>0.315115</td>\n",
       "      <td>56.7357</td>\n",
       "      <td>cheal-1</td>\n",
       "      <td>2622442.48</td>\n",
       "      <td>6201198.67</td>\n",
       "      <td>1401.0</td>\n",
       "      <td>4.0</td>\n",
       "    </tr>\n",
       "    <tr>\n",
       "      <th>1</th>\n",
       "      <td>0.386226</td>\n",
       "      <td>0.247740</td>\n",
       "      <td>1401.0</td>\n",
       "      <td>0.314164</td>\n",
       "      <td>52.5651</td>\n",
       "      <td>cheal-1</td>\n",
       "      <td>2622442.48</td>\n",
       "      <td>6201198.67</td>\n",
       "      <td>1401.0</td>\n",
       "      <td>4.0</td>\n",
       "    </tr>\n",
       "    <tr>\n",
       "      <th>2</th>\n",
       "      <td>0.366010</td>\n",
       "      <td>0.350292</td>\n",
       "      <td>1854.0</td>\n",
       "      <td>0.407555</td>\n",
       "      <td>28.2807</td>\n",
       "      <td>cheal-1</td>\n",
       "      <td>2622442.27</td>\n",
       "      <td>6201196.88</td>\n",
       "      <td>1854.0</td>\n",
       "      <td>2.0</td>\n",
       "    </tr>\n",
       "    <tr>\n",
       "      <th>3</th>\n",
       "      <td>0.366227</td>\n",
       "      <td>0.343867</td>\n",
       "      <td>1854.0</td>\n",
       "      <td>0.425701</td>\n",
       "      <td>28.1603</td>\n",
       "      <td>cheal-1</td>\n",
       "      <td>2622442.27</td>\n",
       "      <td>6201196.88</td>\n",
       "      <td>1854.0</td>\n",
       "      <td>2.0</td>\n",
       "    </tr>\n",
       "    <tr>\n",
       "      <th>4</th>\n",
       "      <td>0.346384</td>\n",
       "      <td>0.299118</td>\n",
       "      <td>2326.0</td>\n",
       "      <td>0.427074</td>\n",
       "      <td>14.9702</td>\n",
       "      <td>cheal-1</td>\n",
       "      <td>2622442.61</td>\n",
       "      <td>6201195.46</td>\n",
       "      <td>2326.0</td>\n",
       "      <td>2.0</td>\n",
       "    </tr>\n",
       "  </tbody>\n",
       "</table>\n",
       "</div>"
      ],
      "text/plain": [
       "        DTC        GR      MD      NEUT     RESD Wellname           X  \\\n",
       "0  0.389167  0.246102  1401.0  0.315115  56.7357  cheal-1  2622442.48   \n",
       "1  0.386226  0.247740  1401.0  0.314164  52.5651  cheal-1  2622442.48   \n",
       "2  0.366010  0.350292  1854.0  0.407555  28.2807  cheal-1  2622442.27   \n",
       "3  0.366227  0.343867  1854.0  0.425701  28.1603  cheal-1  2622442.27   \n",
       "4  0.346384  0.299118  2326.0  0.427074  14.9702  cheal-1  2622442.61   \n",
       "\n",
       "            Y  TVD(m)  Formation  \n",
       "0  6201198.67  1401.0        4.0  \n",
       "1  6201198.67  1401.0        4.0  \n",
       "2  6201196.88  1854.0        2.0  \n",
       "3  6201196.88  1854.0        2.0  \n",
       "4  6201195.46  2326.0        2.0  "
      ]
     },
     "execution_count": 427,
     "metadata": {},
     "output_type": "execute_result"
    }
   ],
   "source": [
    "data.loc[X_train.index].head()"
   ]
  },
  {
   "cell_type": "code",
   "execution_count": 426,
   "metadata": {},
   "outputs": [
    {
     "data": {
      "text/html": [
       "<div>\n",
       "<style scoped>\n",
       "    .dataframe tbody tr th:only-of-type {\n",
       "        vertical-align: middle;\n",
       "    }\n",
       "\n",
       "    .dataframe tbody tr th {\n",
       "        vertical-align: top;\n",
       "    }\n",
       "\n",
       "    .dataframe thead th {\n",
       "        text-align: right;\n",
       "    }\n",
       "</style>\n",
       "<table border=\"1\" class=\"dataframe\">\n",
       "  <thead>\n",
       "    <tr style=\"text-align: right;\">\n",
       "      <th></th>\n",
       "      <th>DTC</th>\n",
       "      <th>GR</th>\n",
       "      <th>MD</th>\n",
       "      <th>NEUT</th>\n",
       "      <th>RESD</th>\n",
       "      <th>Wellname</th>\n",
       "      <th>X</th>\n",
       "      <th>Y</th>\n",
       "      <th>TVD(m)</th>\n",
       "      <th>Formation</th>\n",
       "    </tr>\n",
       "  </thead>\n",
       "  <tbody>\n",
       "    <tr>\n",
       "      <th>6292</th>\n",
       "      <td>0.389167</td>\n",
       "      <td>0.246102</td>\n",
       "      <td>142.0</td>\n",
       "      <td>0.315115</td>\n",
       "      <td>56.7357</td>\n",
       "      <td>cheal-1</td>\n",
       "      <td>2622442.48</td>\n",
       "      <td>6201198.67</td>\n",
       "      <td>142.0</td>\n",
       "      <td>3.0</td>\n",
       "    </tr>\n",
       "    <tr>\n",
       "      <th>6293</th>\n",
       "      <td>0.389167</td>\n",
       "      <td>0.246102</td>\n",
       "      <td>260.0</td>\n",
       "      <td>0.315115</td>\n",
       "      <td>56.7357</td>\n",
       "      <td>cheal-1</td>\n",
       "      <td>2622442.48</td>\n",
       "      <td>6201198.67</td>\n",
       "      <td>260.0</td>\n",
       "      <td>1.0</td>\n",
       "    </tr>\n",
       "    <tr>\n",
       "      <th>6294</th>\n",
       "      <td>0.389167</td>\n",
       "      <td>0.246102</td>\n",
       "      <td>1240.0</td>\n",
       "      <td>0.315115</td>\n",
       "      <td>56.7357</td>\n",
       "      <td>cheal-1</td>\n",
       "      <td>2622442.48</td>\n",
       "      <td>6201198.67</td>\n",
       "      <td>1240.0</td>\n",
       "      <td>4.0</td>\n",
       "    </tr>\n",
       "    <tr>\n",
       "      <th>0</th>\n",
       "      <td>0.389167</td>\n",
       "      <td>0.246102</td>\n",
       "      <td>1401.0</td>\n",
       "      <td>0.315115</td>\n",
       "      <td>56.7357</td>\n",
       "      <td>cheal-1</td>\n",
       "      <td>2622442.48</td>\n",
       "      <td>6201198.67</td>\n",
       "      <td>1401.0</td>\n",
       "      <td>4.0</td>\n",
       "    </tr>\n",
       "    <tr>\n",
       "      <th>1</th>\n",
       "      <td>0.386226</td>\n",
       "      <td>0.247740</td>\n",
       "      <td>1401.0</td>\n",
       "      <td>0.314164</td>\n",
       "      <td>52.5651</td>\n",
       "      <td>cheal-1</td>\n",
       "      <td>2622442.48</td>\n",
       "      <td>6201198.67</td>\n",
       "      <td>1401.0</td>\n",
       "      <td>4.0</td>\n",
       "    </tr>\n",
       "  </tbody>\n",
       "</table>\n",
       "</div>"
      ],
      "text/plain": [
       "           DTC        GR      MD      NEUT     RESD Wellname           X  \\\n",
       "6292  0.389167  0.246102   142.0  0.315115  56.7357  cheal-1  2622442.48   \n",
       "6293  0.389167  0.246102   260.0  0.315115  56.7357  cheal-1  2622442.48   \n",
       "6294  0.389167  0.246102  1240.0  0.315115  56.7357  cheal-1  2622442.48   \n",
       "0     0.389167  0.246102  1401.0  0.315115  56.7357  cheal-1  2622442.48   \n",
       "1     0.386226  0.247740  1401.0  0.314164  52.5651  cheal-1  2622442.48   \n",
       "\n",
       "               Y  TVD(m)  Formation  \n",
       "6292  6201198.67   142.0        3.0  \n",
       "6293  6201198.67   260.0        1.0  \n",
       "6294  6201198.67  1240.0        4.0  \n",
       "0     6201198.67  1401.0        4.0  \n",
       "1     6201198.67  1401.0        4.0  "
      ]
     },
     "execution_count": 426,
     "metadata": {},
     "output_type": "execute_result"
    }
   ],
   "source": [
    "data.head()"
   ]
  },
  {
   "cell_type": "code",
   "execution_count": 432,
   "metadata": {},
   "outputs": [],
   "source": [
    "from sklearn.model_selection import GridSearchCV\n",
    "my_scorer = make_scorer(mycustom, greater_is_better=False)\n"
   ]
  },
  {
   "cell_type": "code",
   "execution_count": 433,
   "metadata": {},
   "outputs": [
    {
     "name": "stderr",
     "output_type": "stream",
     "text": [
      "/Users/Heizenberg/anaconda3/lib/python3.6/site-packages/sklearn/model_selection/_split.py:2053: FutureWarning: You should specify a value for 'cv' instead of relying on the default value. The default value will change from 3 to 5 in version 0.22.\n",
      "  warnings.warn(CV_WARNING, FutureWarning)\n",
      "[Parallel(n_jobs=1)]: Using backend SequentialBackend with 1 concurrent workers.\n"
     ]
    },
    {
     "name": "stdout",
     "output_type": "stream",
     "text": [
      "Fitting 3 folds for each of 35000 candidates, totalling 105000 fits\n"
     ]
    },
    {
     "name": "stderr",
     "output_type": "stream",
     "text": [
      "[Parallel(n_jobs=1)]: Done 105000 out of 105000 | elapsed: 55.0min finished\n"
     ]
    },
    {
     "data": {
      "text/plain": [
       "GridSearchCV(cv='warn', error_score='raise-deprecating',\n",
       "       estimator=DecisionTreeClassifier(class_weight=None, criterion='gini', max_depth=None,\n",
       "            max_features=None, max_leaf_nodes=None,\n",
       "            min_impurity_decrease=0.0, min_impurity_split=None,\n",
       "            min_samples_leaf=1, min_samples_split=2,\n",
       "            min_weight_fraction_leaf=0.0, presort=False, random_state=None,\n",
       "            splitter='best'),\n",
       "       fit_params=None, iid='warn', n_jobs=None,\n",
       "       param_grid={'criterion': ['gini', 'entropy'], 'min_samples_split': range(10, 500, 20), 'max_depth': range(1, 20, 2), 'min_samples_leaf': range(1, 20, 2), 'max_features': range(1, 8)},\n",
       "       pre_dispatch='2*n_jobs', refit=True, return_train_score='warn',\n",
       "       scoring=<function mycustom at 0x1a973a41e0>, verbose=1)"
      ]
     },
     "execution_count": 433,
     "metadata": {},
     "output_type": "execute_result"
    }
   ],
   "source": [
    "para ={'criterion': ['gini','entropy'],'min_samples_split' : range(10,500,20),'max_depth': range(1,20,2),'min_samples_leaf':range(1,20,2),'max_features':range(1,8)}\n",
    "grid_search = GridSearchCV(estimator=DecisionTreeClassifier(),param_grid=para,scoring=mycustom,verbose=1)\n",
    "grid_search.fit(X_train,y_train)\n"
   ]
  },
  {
   "cell_type": "code",
   "execution_count": 513,
   "metadata": {},
   "outputs": [
    {
     "name": "stdout",
     "output_type": "stream",
     "text": [
      "0.6203787401333587\n",
      "{'criterion': 'gini', 'max_depth': 5, 'max_features': 1, 'min_samples_leaf': 5, 'min_samples_split': 450}\n"
     ]
    }
   ],
   "source": [
    "clf = grid_search.best_estimator_\n",
    "print(grid_search.best_score_)\n",
    "print(grid_search.best_params_)"
   ]
  },
  {
   "cell_type": "code",
   "execution_count": 520,
   "metadata": {},
   "outputs": [],
   "source": [
    "clf = DecisionTreeClassifier(max_features=1,min_samples_leaf=5,min_samples_split=450).fit(X_train,y_train)"
   ]
  },
  {
   "cell_type": "code",
   "execution_count": 414,
   "metadata": {},
   "outputs": [],
   "source": [
    "from sklearn.base import BaseEstimator, ClassifierMixin, TransformerMixin, clone\n",
    "from sklearn.linear_model import LogisticRegression\n",
    "from sklearn.utils.estimator_checks import check_estimator\n",
    "#from sklearn.utils.validation import check_X_y, check_array, check_is_fitted\n",
    "from sklearn.model_selection import GridSearchCV\n",
    "from sklearn.metrics import make_scorer\n",
    "\n",
    "class CutEstimator(BaseEstimator):\n",
    "\n",
    "    def __init__(self, base_estimator):\n",
    "        self.base_estimator = base_estimator\n",
    "\n",
    "    def fit(self, X, y):\n",
    "        self._base_estimator = clone(self.base_estimator)\n",
    "        self._base_estimator.fit(X.drop('Wellname',axis=1),y)\n",
    "        return self\n",
    "\n",
    "    def predict(self, X):\n",
    "        return  self._base_estimator.predict(X.drop('Wellname',axis=1))"
   ]
  },
  {
   "cell_type": "markdown",
   "metadata": {},
   "source": [
    "# Predict tops"
   ]
  },
  {
   "cell_type": "code",
   "execution_count": 59,
   "metadata": {},
   "outputs": [
    {
     "name": "stderr",
     "output_type": "stream",
     "text": [
      "Using TensorFlow backend.\n"
     ]
    }
   ],
   "source": [
    "from keras.layers import Dense\n",
    "from keras.models import Input, Model\n",
    "\n"
   ]
  },
  {
   "cell_type": "code",
   "execution_count": 60,
   "metadata": {
    "collapsed": true
   },
   "outputs": [],
   "source": [
    "from keras.layers import Activation, Lambda\n"
   ]
  },
  {
   "cell_type": "code",
   "execution_count": 61,
   "metadata": {},
   "outputs": [
    {
     "data": {
      "text/plain": [
       "(4352, 8)"
      ]
     },
     "execution_count": 61,
     "metadata": {},
     "output_type": "execute_result"
    }
   ],
   "source": [
    "X_train.shape"
   ]
  },
  {
   "cell_type": "code",
   "execution_count": 222,
   "metadata": {
    "collapsed": true
   },
   "outputs": [],
   "source": [
    "X_train = X_train.values.reshape(X_train.shape[0],1,X_train.shape[1])"
   ]
  },
  {
   "cell_type": "code",
   "execution_count": 223,
   "metadata": {
    "collapsed": true
   },
   "outputs": [],
   "source": [
    "X_test = X_test.values.reshape(X_test.shape[0],1,X_test.shape[1])"
   ]
  },
  {
   "cell_type": "code",
   "execution_count": 121,
   "metadata": {
    "collapsed": true
   },
   "outputs": [],
   "source": [
    "from keras.utils import np_utils"
   ]
  },
  {
   "cell_type": "code",
   "execution_count": 224,
   "metadata": {
    "collapsed": true
   },
   "outputs": [],
   "source": [
    "y_test = np_utils.to_categorical(y_test,num_classes=5)"
   ]
  },
  {
   "cell_type": "code",
   "execution_count": 225,
   "metadata": {
    "collapsed": true
   },
   "outputs": [],
   "source": [
    "y_train = np_utils.to_categorical(y_train,num_classes=5)"
   ]
  },
  {
   "cell_type": "code",
   "execution_count": 155,
   "metadata": {},
   "outputs": [
    {
     "data": {
      "text/plain": [
       "4352"
      ]
     },
     "execution_count": 155,
     "metadata": {},
     "output_type": "execute_result"
    }
   ],
   "source": [
    "X_train.shape[0]"
   ]
  },
  {
   "cell_type": "code",
   "execution_count": 130,
   "metadata": {
    "collapsed": true
   },
   "outputs": [],
   "source": [
    "y_train=np.argmax(y_train,axis=1)"
   ]
  },
  {
   "cell_type": "code",
   "execution_count": 67,
   "metadata": {
    "collapsed": true
   },
   "outputs": [],
   "source": [
    "from tcn import compiled_tcn\n"
   ]
  },
  {
   "cell_type": "code",
   "execution_count": 229,
   "metadata": {},
   "outputs": [
    {
     "name": "stdout",
     "output_type": "stream",
     "text": [
      "x.shape= (?, 5)\n",
      "model.x = (?, 1, 8)\n",
      "model.y = (?, 5)\n",
      "Adam with norm clipping.\n"
     ]
    }
   ],
   "source": [
    "model = compiled_tcn(num_feat=8,  # type: int\n",
    "                 num_classes=5,  # type: int\n",
    "                 nb_filters=5,  # type: int\n",
    "                 kernel_size=2,  # type: int\n",
    "                 max_len=X_train.shape[1],\n",
    "                 activation='norm_relu',  # type: str\n",
    "                 nb_stacks=2,\n",
    "             dilations=[2 ** i for i in range(9)],\n",
    "                 padding='causal',  # type: str\n",
    "                 use_skip_connections=True,  # type: bool\n",
    "                 return_sequences=False,\n",
    "                 regression=False  # type: bool\n",
    "                 \n",
    "                 )"
   ]
  },
  {
   "cell_type": "code",
   "execution_count": 234,
   "metadata": {
    "collapsed": true
   },
   "outputs": [],
   "source": [
    "from tcn import TCN"
   ]
  },
  {
   "cell_type": "code",
   "execution_count": 238,
   "metadata": {},
   "outputs": [
    {
     "name": "stdout",
     "output_type": "stream",
     "text": [
      "Train on 4352 samples, validate on 2007 samples\n",
      "Epoch 1/25\n",
      "4352/4352 [==============================] - 24s 6ms/step - loss: 0.8459 - val_loss: 1.7191\n",
      "Epoch 2/25\n",
      "4352/4352 [==============================] - 3s 719us/step - loss: 0.8428 - val_loss: 1.8093\n",
      "Epoch 3/25\n",
      "4352/4352 [==============================] - 3s 724us/step - loss: 0.8381 - val_loss: 1.9833\n",
      "Epoch 4/25\n",
      "4352/4352 [==============================] - 3s 755us/step - loss: 0.8391 - val_loss: 1.8116\n",
      "Epoch 5/25\n",
      "4352/4352 [==============================] - 3s 763us/step - loss: 0.8362 - val_loss: 1.7759\n",
      "Epoch 6/25\n",
      "4352/4352 [==============================] - 3s 766us/step - loss: 0.8382 - val_loss: 1.9269\n",
      "Epoch 7/25\n",
      "4352/4352 [==============================] - 3s 786us/step - loss: 0.8359 - val_loss: 1.8265\n",
      "Epoch 8/25\n",
      "4352/4352 [==============================] - 3s 777us/step - loss: 0.8326 - val_loss: 1.7733\n",
      "Epoch 9/25\n",
      "4352/4352 [==============================] - 3s 764us/step - loss: 0.8321 - val_loss: 1.7493\n",
      "Epoch 10/25\n",
      "4352/4352 [==============================] - 3s 777us/step - loss: 0.8268 - val_loss: 1.7702\n",
      "Epoch 11/25\n",
      "4352/4352 [==============================] - 4s 811us/step - loss: 0.8246 - val_loss: 1.7453\n",
      "Epoch 12/25\n",
      "4352/4352 [==============================] - 3s 755us/step - loss: 0.8091 - val_loss: 2.0926\n",
      "Epoch 13/25\n",
      "4352/4352 [==============================] - 3s 757us/step - loss: 0.7073 - val_loss: 3.0765\n",
      "Epoch 14/25\n",
      "4352/4352 [==============================] - 3s 775us/step - loss: 0.5591 - val_loss: 1.6157\n",
      "Epoch 15/25\n",
      "4352/4352 [==============================] - 3s 739us/step - loss: 0.4896 - val_loss: 3.2212\n",
      "Epoch 16/25\n",
      "4352/4352 [==============================] - 3s 788us/step - loss: 0.4623 - val_loss: 2.9111\n",
      "Epoch 17/25\n",
      "4352/4352 [==============================] - 3s 760us/step - loss: 0.4505 - val_loss: 2.1725\n",
      "Epoch 18/25\n",
      "4352/4352 [==============================] - 3s 759us/step - loss: 0.4395 - val_loss: 2.7514\n",
      "Epoch 19/25\n",
      "4352/4352 [==============================] - 3s 754us/step - loss: 0.4207 - val_loss: 2.4191\n",
      "Epoch 20/25\n",
      "4352/4352 [==============================] - 3s 743us/step - loss: 0.4412 - val_loss: 3.4776\n",
      "Epoch 21/25\n",
      "4352/4352 [==============================] - 3s 748us/step - loss: 0.4324 - val_loss: 3.1869\n",
      "Epoch 22/25\n",
      "4352/4352 [==============================] - 3s 734us/step - loss: 0.4141 - val_loss: 3.3262\n",
      "Epoch 23/25\n",
      "4352/4352 [==============================] - 3s 748us/step - loss: 0.4221 - val_loss: 1.9632\n",
      "Epoch 24/25\n",
      "4352/4352 [==============================] - 3s 794us/step - loss: 0.3923 - val_loss: 2.0192\n",
      "Epoch 25/25\n",
      "4352/4352 [==============================] - 3s 748us/step - loss: 0.4071 - val_loss: 2.4291\n"
     ]
    },
    {
     "data": {
      "text/plain": [
       "<keras.callbacks.History at 0x1a73362e80>"
      ]
     },
     "execution_count": 238,
     "metadata": {},
     "output_type": "execute_result"
    }
   ],
   "source": [
    "i = Input(batch_shape=(32, 1, 8))\n",
    "\n",
    "o = TCN(return_sequences=False)(i)  # The TCN layers are here.\n",
    "o = Dense(5,activation='softmax')(o)\n",
    "\n",
    "m = Model(inputs=[i], outputs=[o])\n",
    "m.compile(optimizer='adam', loss='categorical_crossentropy')\n",
    "\n",
    "m.fit(X_train, y_train, epochs=25, validation_data=(X_test,y_test))"
   ]
  },
  {
   "cell_type": "code",
   "execution_count": 274,
   "metadata": {},
   "outputs": [
    {
     "name": "stdout",
     "output_type": "stream",
     "text": [
      "-0.6734483004868406\n"
     ]
    }
   ],
   "source": [
    "from sklearn.metrics import r2_score\n",
    "print(r2_score(y_test,np_utils.to_categorical(y_pred)))"
   ]
  },
  {
   "cell_type": "code",
   "execution_count": 275,
   "metadata": {},
   "outputs": [
    {
     "data": {
      "text/plain": [
       "array([[0., 1., 0., 0., 0.],\n",
       "       [0., 1., 0., 0., 0.],\n",
       "       [0., 1., 0., 0., 0.],\n",
       "       ...,\n",
       "       [0., 0., 1., 0., 0.],\n",
       "       [0., 0., 1., 0., 0.],\n",
       "       [0., 0., 1., 0., 0.]], dtype=float32)"
      ]
     },
     "execution_count": 275,
     "metadata": {},
     "output_type": "execute_result"
    }
   ],
   "source": [
    "np_utils.to_categorical(y_pred)"
   ]
  },
  {
   "cell_type": "code",
   "execution_count": 276,
   "metadata": {},
   "outputs": [
    {
     "data": {
      "text/plain": [
       "array([[0., 0., 1., 0., 0.],\n",
       "       [0., 0., 1., 0., 0.],\n",
       "       [1., 0., 0., 0., 0.],\n",
       "       ...,\n",
       "       [0., 0., 0., 0., 1.],\n",
       "       [0., 0., 0., 0., 1.],\n",
       "       [0., 0., 0., 0., 1.]], dtype=float32)"
      ]
     },
     "execution_count": 276,
     "metadata": {},
     "output_type": "execute_result"
    }
   ],
   "source": [
    "y_test"
   ]
  },
  {
   "cell_type": "code",
   "execution_count": 253,
   "metadata": {
    "collapsed": true
   },
   "outputs": [],
   "source": [
    "o = test\n",
    "o['Formation'] = y_proba\n",
    "pred = o.groupby(['Wellname','Formation'])['MD'].min()"
   ]
  },
  {
   "cell_type": "code",
   "execution_count": 250,
   "metadata": {},
   "outputs": [
    {
     "name": "stderr",
     "output_type": "stream",
     "text": [
      "/Users/Heizenberg/anaconda3/lib/python3.6/site-packages/ipykernel_launcher.py:1: FutureWarning: The signature of `Series.to_csv` was aligned to that of `DataFrame.to_csv`, and argument 'header' will change its default value from False to True: please pass an explicit value to suppress this warning.\n",
      "  \"\"\"Entry point for launching an IPython kernel.\n"
     ]
    }
   ],
   "source": [
    "pred.to_csv('myprediction.csv')"
   ]
  },
  {
   "cell_type": "code",
   "execution_count": 252,
   "metadata": {
    "collapsed": true
   },
   "outputs": [],
   "source": [
    "df_ = df_.sort_values(['Wellname','MD'])\n",
    "df_.to_csv('actual.csv')"
   ]
  },
  {
   "cell_type": "code",
   "execution_count": 254,
   "metadata": {
    "collapsed": true
   },
   "outputs": [],
   "source": [
    "comparision = df_.merge(pred,on=['Wellname','Formation'],how='inner')"
   ]
  },
  {
   "cell_type": "code",
   "execution_count": 256,
   "metadata": {
    "collapsed": true
   },
   "outputs": [],
   "source": [
    "comparision['diff']=comparision['MD_x'] - comparision['MD_y']"
   ]
  },
  {
   "cell_type": "code",
   "execution_count": 263,
   "metadata": {},
   "outputs": [
    {
     "data": {
      "text/plain": [
       "-9.525475370881583"
      ]
     },
     "execution_count": 263,
     "metadata": {},
     "output_type": "execute_result"
    }
   ],
   "source": [
    "np.mean(comparision['diff']/comparision['MD_x'])*100"
   ]
  },
  {
   "cell_type": "code",
   "execution_count": 230,
   "metadata": {},
   "outputs": [
    {
     "name": "stdout",
     "output_type": "stream",
     "text": [
      "Train on 4352 samples, validate on 2007 samples\n",
      "Epoch 1/10\n"
     ]
    },
    {
     "ename": "InvalidArgumentError",
     "evalue": "Can not squeeze dim[1], expected a dimension of 1, got 5\n\t [[{{node metrics_35/accuracy/Squeeze}}]]",
     "output_type": "error",
     "traceback": [
      "\u001b[0;31m---------------------------------------------------------------------------\u001b[0m",
      "\u001b[0;31mInvalidArgumentError\u001b[0m                      Traceback (most recent call last)",
      "\u001b[0;32m<ipython-input-230-84ba06ebf109>\u001b[0m in \u001b[0;36m<module>\u001b[0;34m()\u001b[0m\n\u001b[0;32m----> 1\u001b[0;31m \u001b[0mmodel\u001b[0m\u001b[0;34m.\u001b[0m\u001b[0mfit\u001b[0m\u001b[0;34m(\u001b[0m\u001b[0mX_train\u001b[0m\u001b[0;34m,\u001b[0m \u001b[0my_train\u001b[0m\u001b[0;34m,\u001b[0m \u001b[0mvalidation_data\u001b[0m\u001b[0;34m=\u001b[0m\u001b[0;34m(\u001b[0m\u001b[0mX_test\u001b[0m\u001b[0;34m,\u001b[0m \u001b[0my_test\u001b[0m\u001b[0;34m)\u001b[0m\u001b[0;34m,\u001b[0m \u001b[0mepochs\u001b[0m\u001b[0;34m=\u001b[0m\u001b[0;36m10\u001b[0m\u001b[0;34m,\u001b[0m \u001b[0mbatch_size\u001b[0m\u001b[0;34m=\u001b[0m\u001b[0;36m32\u001b[0m\u001b[0;34m)\u001b[0m\u001b[0;34m\u001b[0m\u001b[0m\n\u001b[0m",
      "\u001b[0;32m~/anaconda3/lib/python3.6/site-packages/keras/engine/training.py\u001b[0m in \u001b[0;36mfit\u001b[0;34m(self, x, y, batch_size, epochs, verbose, callbacks, validation_split, validation_data, shuffle, class_weight, sample_weight, initial_epoch, steps_per_epoch, validation_steps, **kwargs)\u001b[0m\n\u001b[1;32m   1037\u001b[0m                                         \u001b[0minitial_epoch\u001b[0m\u001b[0;34m=\u001b[0m\u001b[0minitial_epoch\u001b[0m\u001b[0;34m,\u001b[0m\u001b[0;34m\u001b[0m\u001b[0m\n\u001b[1;32m   1038\u001b[0m                                         \u001b[0msteps_per_epoch\u001b[0m\u001b[0;34m=\u001b[0m\u001b[0msteps_per_epoch\u001b[0m\u001b[0;34m,\u001b[0m\u001b[0;34m\u001b[0m\u001b[0m\n\u001b[0;32m-> 1039\u001b[0;31m                                         validation_steps=validation_steps)\n\u001b[0m\u001b[1;32m   1040\u001b[0m \u001b[0;34m\u001b[0m\u001b[0m\n\u001b[1;32m   1041\u001b[0m     def evaluate(self, x=None, y=None,\n",
      "\u001b[0;32m~/anaconda3/lib/python3.6/site-packages/keras/engine/training_arrays.py\u001b[0m in \u001b[0;36mfit_loop\u001b[0;34m(model, f, ins, out_labels, batch_size, epochs, verbose, callbacks, val_f, val_ins, shuffle, callback_metrics, initial_epoch, steps_per_epoch, validation_steps)\u001b[0m\n\u001b[1;32m    197\u001b[0m                     \u001b[0mins_batch\u001b[0m\u001b[0;34m[\u001b[0m\u001b[0mi\u001b[0m\u001b[0;34m]\u001b[0m \u001b[0;34m=\u001b[0m \u001b[0mins_batch\u001b[0m\u001b[0;34m[\u001b[0m\u001b[0mi\u001b[0m\u001b[0;34m]\u001b[0m\u001b[0;34m.\u001b[0m\u001b[0mtoarray\u001b[0m\u001b[0;34m(\u001b[0m\u001b[0;34m)\u001b[0m\u001b[0;34m\u001b[0m\u001b[0m\n\u001b[1;32m    198\u001b[0m \u001b[0;34m\u001b[0m\u001b[0m\n\u001b[0;32m--> 199\u001b[0;31m                 \u001b[0mouts\u001b[0m \u001b[0;34m=\u001b[0m \u001b[0mf\u001b[0m\u001b[0;34m(\u001b[0m\u001b[0mins_batch\u001b[0m\u001b[0;34m)\u001b[0m\u001b[0;34m\u001b[0m\u001b[0m\n\u001b[0m\u001b[1;32m    200\u001b[0m                 \u001b[0mouts\u001b[0m \u001b[0;34m=\u001b[0m \u001b[0mto_list\u001b[0m\u001b[0;34m(\u001b[0m\u001b[0mouts\u001b[0m\u001b[0;34m)\u001b[0m\u001b[0;34m\u001b[0m\u001b[0m\n\u001b[1;32m    201\u001b[0m                 \u001b[0;32mfor\u001b[0m \u001b[0ml\u001b[0m\u001b[0;34m,\u001b[0m \u001b[0mo\u001b[0m \u001b[0;32min\u001b[0m \u001b[0mzip\u001b[0m\u001b[0;34m(\u001b[0m\u001b[0mout_labels\u001b[0m\u001b[0;34m,\u001b[0m \u001b[0mouts\u001b[0m\u001b[0;34m)\u001b[0m\u001b[0;34m:\u001b[0m\u001b[0;34m\u001b[0m\u001b[0m\n",
      "\u001b[0;32m~/anaconda3/lib/python3.6/site-packages/keras/backend/tensorflow_backend.py\u001b[0m in \u001b[0;36m__call__\u001b[0;34m(self, inputs)\u001b[0m\n\u001b[1;32m   2713\u001b[0m                 \u001b[0;32mreturn\u001b[0m \u001b[0mself\u001b[0m\u001b[0;34m.\u001b[0m\u001b[0m_legacy_call\u001b[0m\u001b[0;34m(\u001b[0m\u001b[0minputs\u001b[0m\u001b[0;34m)\u001b[0m\u001b[0;34m\u001b[0m\u001b[0m\n\u001b[1;32m   2714\u001b[0m \u001b[0;34m\u001b[0m\u001b[0m\n\u001b[0;32m-> 2715\u001b[0;31m             \u001b[0;32mreturn\u001b[0m \u001b[0mself\u001b[0m\u001b[0;34m.\u001b[0m\u001b[0m_call\u001b[0m\u001b[0;34m(\u001b[0m\u001b[0minputs\u001b[0m\u001b[0;34m)\u001b[0m\u001b[0;34m\u001b[0m\u001b[0m\n\u001b[0m\u001b[1;32m   2716\u001b[0m         \u001b[0;32melse\u001b[0m\u001b[0;34m:\u001b[0m\u001b[0;34m\u001b[0m\u001b[0m\n\u001b[1;32m   2717\u001b[0m             \u001b[0;32mif\u001b[0m \u001b[0mpy_any\u001b[0m\u001b[0;34m(\u001b[0m\u001b[0mis_tensor\u001b[0m\u001b[0;34m(\u001b[0m\u001b[0mx\u001b[0m\u001b[0;34m)\u001b[0m \u001b[0;32mfor\u001b[0m \u001b[0mx\u001b[0m \u001b[0;32min\u001b[0m \u001b[0minputs\u001b[0m\u001b[0;34m)\u001b[0m\u001b[0;34m:\u001b[0m\u001b[0;34m\u001b[0m\u001b[0m\n",
      "\u001b[0;32m~/anaconda3/lib/python3.6/site-packages/keras/backend/tensorflow_backend.py\u001b[0m in \u001b[0;36m_call\u001b[0;34m(self, inputs)\u001b[0m\n\u001b[1;32m   2673\u001b[0m             \u001b[0mfetched\u001b[0m \u001b[0;34m=\u001b[0m \u001b[0mself\u001b[0m\u001b[0;34m.\u001b[0m\u001b[0m_callable_fn\u001b[0m\u001b[0;34m(\u001b[0m\u001b[0;34m*\u001b[0m\u001b[0marray_vals\u001b[0m\u001b[0;34m,\u001b[0m \u001b[0mrun_metadata\u001b[0m\u001b[0;34m=\u001b[0m\u001b[0mself\u001b[0m\u001b[0;34m.\u001b[0m\u001b[0mrun_metadata\u001b[0m\u001b[0;34m)\u001b[0m\u001b[0;34m\u001b[0m\u001b[0m\n\u001b[1;32m   2674\u001b[0m         \u001b[0;32melse\u001b[0m\u001b[0;34m:\u001b[0m\u001b[0;34m\u001b[0m\u001b[0m\n\u001b[0;32m-> 2675\u001b[0;31m             \u001b[0mfetched\u001b[0m \u001b[0;34m=\u001b[0m \u001b[0mself\u001b[0m\u001b[0;34m.\u001b[0m\u001b[0m_callable_fn\u001b[0m\u001b[0;34m(\u001b[0m\u001b[0;34m*\u001b[0m\u001b[0marray_vals\u001b[0m\u001b[0;34m)\u001b[0m\u001b[0;34m\u001b[0m\u001b[0m\n\u001b[0m\u001b[1;32m   2676\u001b[0m         \u001b[0;32mreturn\u001b[0m \u001b[0mfetched\u001b[0m\u001b[0;34m[\u001b[0m\u001b[0;34m:\u001b[0m\u001b[0mlen\u001b[0m\u001b[0;34m(\u001b[0m\u001b[0mself\u001b[0m\u001b[0;34m.\u001b[0m\u001b[0moutputs\u001b[0m\u001b[0;34m)\u001b[0m\u001b[0;34m]\u001b[0m\u001b[0;34m\u001b[0m\u001b[0m\n\u001b[1;32m   2677\u001b[0m \u001b[0;34m\u001b[0m\u001b[0m\n",
      "\u001b[0;32m~/anaconda3/lib/python3.6/site-packages/tensorflow/python/client/session.py\u001b[0m in \u001b[0;36m__call__\u001b[0;34m(self, *args, **kwargs)\u001b[0m\n\u001b[1;32m   1437\u001b[0m           ret = tf_session.TF_SessionRunCallable(\n\u001b[1;32m   1438\u001b[0m               \u001b[0mself\u001b[0m\u001b[0;34m.\u001b[0m\u001b[0m_session\u001b[0m\u001b[0;34m.\u001b[0m\u001b[0m_session\u001b[0m\u001b[0;34m,\u001b[0m \u001b[0mself\u001b[0m\u001b[0;34m.\u001b[0m\u001b[0m_handle\u001b[0m\u001b[0;34m,\u001b[0m \u001b[0margs\u001b[0m\u001b[0;34m,\u001b[0m \u001b[0mstatus\u001b[0m\u001b[0;34m,\u001b[0m\u001b[0;34m\u001b[0m\u001b[0m\n\u001b[0;32m-> 1439\u001b[0;31m               run_metadata_ptr)\n\u001b[0m\u001b[1;32m   1440\u001b[0m         \u001b[0;32mif\u001b[0m \u001b[0mrun_metadata\u001b[0m\u001b[0;34m:\u001b[0m\u001b[0;34m\u001b[0m\u001b[0m\n\u001b[1;32m   1441\u001b[0m           \u001b[0mproto_data\u001b[0m \u001b[0;34m=\u001b[0m \u001b[0mtf_session\u001b[0m\u001b[0;34m.\u001b[0m\u001b[0mTF_GetBuffer\u001b[0m\u001b[0;34m(\u001b[0m\u001b[0mrun_metadata_ptr\u001b[0m\u001b[0;34m)\u001b[0m\u001b[0;34m\u001b[0m\u001b[0m\n",
      "\u001b[0;32m~/anaconda3/lib/python3.6/site-packages/tensorflow/python/framework/errors_impl.py\u001b[0m in \u001b[0;36m__exit__\u001b[0;34m(self, type_arg, value_arg, traceback_arg)\u001b[0m\n\u001b[1;32m    526\u001b[0m             \u001b[0;32mNone\u001b[0m\u001b[0;34m,\u001b[0m \u001b[0;32mNone\u001b[0m\u001b[0;34m,\u001b[0m\u001b[0;34m\u001b[0m\u001b[0m\n\u001b[1;32m    527\u001b[0m             \u001b[0mcompat\u001b[0m\u001b[0;34m.\u001b[0m\u001b[0mas_text\u001b[0m\u001b[0;34m(\u001b[0m\u001b[0mc_api\u001b[0m\u001b[0;34m.\u001b[0m\u001b[0mTF_Message\u001b[0m\u001b[0;34m(\u001b[0m\u001b[0mself\u001b[0m\u001b[0;34m.\u001b[0m\u001b[0mstatus\u001b[0m\u001b[0;34m.\u001b[0m\u001b[0mstatus\u001b[0m\u001b[0;34m)\u001b[0m\u001b[0;34m)\u001b[0m\u001b[0;34m,\u001b[0m\u001b[0;34m\u001b[0m\u001b[0m\n\u001b[0;32m--> 528\u001b[0;31m             c_api.TF_GetCode(self.status.status))\n\u001b[0m\u001b[1;32m    529\u001b[0m     \u001b[0;31m# Delete the underlying status object from memory otherwise it stays alive\u001b[0m\u001b[0;34m\u001b[0m\u001b[0;34m\u001b[0m\u001b[0m\n\u001b[1;32m    530\u001b[0m     \u001b[0;31m# as there is a reference to status from this from the traceback due to\u001b[0m\u001b[0;34m\u001b[0m\u001b[0;34m\u001b[0m\u001b[0m\n",
      "\u001b[0;31mInvalidArgumentError\u001b[0m: Can not squeeze dim[1], expected a dimension of 1, got 5\n\t [[{{node metrics_35/accuracy/Squeeze}}]]"
     ]
    }
   ],
   "source": [
    "model.fit(X_train, y_train, validation_data=(X_test, y_test), epochs=10, batch_size=32)"
   ]
  }
 ],
 "metadata": {
  "kernelspec": {
   "display_name": "Python 3",
   "language": "python",
   "name": "python3"
  },
  "language_info": {
   "codemirror_mode": {
    "name": "ipython",
    "version": 3
   },
   "file_extension": ".py",
   "mimetype": "text/x-python",
   "name": "python",
   "nbconvert_exporter": "python",
   "pygments_lexer": "ipython3",
   "version": "3.6.3"
  }
 },
 "nbformat": 4,
 "nbformat_minor": 2
}
